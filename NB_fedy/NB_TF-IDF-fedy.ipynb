{
 "cells": [
  {
   "cell_type": "code",
   "execution_count": 3,
   "metadata": {
    "colab": {},
    "colab_type": "code",
    "id": "Jdu6O8UWqGWm"
   },
   "outputs": [],
   "source": [
    "import pandas as pd\n",
    "\n",
    "df_review = pd.read_csv(\"dataset_NBc_fedy.csv\")"
   ]
  },
  {
   "cell_type": "code",
   "execution_count": 4,
   "metadata": {
    "colab": {},
    "colab_type": "code",
    "id": "lZ1h7wVbwDVl"
   },
   "outputs": [
    {
     "data": {
      "text/html": [
       "<div>\n",
       "<style scoped>\n",
       "    .dataframe tbody tr th:only-of-type {\n",
       "        vertical-align: middle;\n",
       "    }\n",
       "\n",
       "    .dataframe tbody tr th {\n",
       "        vertical-align: top;\n",
       "    }\n",
       "\n",
       "    .dataframe thead th {\n",
       "        text-align: right;\n",
       "    }\n",
       "</style>\n",
       "<table border=\"1\" class=\"dataframe\">\n",
       "  <thead>\n",
       "    <tr style=\"text-align: right;\">\n",
       "      <th></th>\n",
       "      <th>Label</th>\n",
       "      <th>Tweet</th>\n",
       "    </tr>\n",
       "  </thead>\n",
       "  <tbody>\n",
       "    <tr>\n",
       "      <th>200</th>\n",
       "      <td>Negatif</td>\n",
       "      <td>yg bs goreng isiu ngamuk karna laku ppkm darur...</td>\n",
       "    </tr>\n",
       "    <tr>\n",
       "      <th>201</th>\n",
       "      <td>Negatif</td>\n",
       "      <td>yg habib mustofa al haddar kalimantan pes waki...</td>\n",
       "    </tr>\n",
       "    <tr>\n",
       "      <th>202</th>\n",
       "      <td>Negatif</td>\n",
       "      <td>yg razia yaqut org nu kenal toa masjid seabreg...</td>\n",
       "    </tr>\n",
       "    <tr>\n",
       "      <th>203</th>\n",
       "      <td>Negatif</td>\n",
       "      <td>yg wujud gagal perintah lindung rakyat gagal t...</td>\n",
       "    </tr>\n",
       "    <tr>\n",
       "      <th>204</th>\n",
       "      <td>Negatif</td>\n",
       "      <td>yth presiden ri tolong stop terbang manusia ne...</td>\n",
       "    </tr>\n",
       "  </tbody>\n",
       "</table>\n",
       "</div>"
      ],
      "text/plain": [
       "       Label                                              Tweet\n",
       "200  Negatif  yg bs goreng isiu ngamuk karna laku ppkm darur...\n",
       "201  Negatif  yg habib mustofa al haddar kalimantan pes waki...\n",
       "202  Negatif  yg razia yaqut org nu kenal toa masjid seabreg...\n",
       "203  Negatif  yg wujud gagal perintah lindung rakyat gagal t...\n",
       "204  Negatif  yth presiden ri tolong stop terbang manusia ne..."
      ]
     },
     "execution_count": 4,
     "metadata": {},
     "output_type": "execute_result"
    }
   ],
   "source": [
    "df_review.tail()"
   ]
  },
  {
   "cell_type": "code",
   "execution_count": 5,
   "metadata": {},
   "outputs": [
    {
     "data": {
      "text/plain": [
       "Negatif    119\n",
       "Positif     86\n",
       "Name: Label, dtype: int64"
      ]
     },
     "execution_count": 5,
     "metadata": {},
     "output_type": "execute_result"
    }
   ],
   "source": [
    "df_review[\"Label\"].value_counts()"
   ]
  },
  {
   "cell_type": "code",
   "execution_count": 6,
   "metadata": {},
   "outputs": [
    {
     "data": {
      "text/html": [
       "<div>\n",
       "<style scoped>\n",
       "    .dataframe tbody tr th:only-of-type {\n",
       "        vertical-align: middle;\n",
       "    }\n",
       "\n",
       "    .dataframe tbody tr th {\n",
       "        vertical-align: top;\n",
       "    }\n",
       "\n",
       "    .dataframe thead th {\n",
       "        text-align: right;\n",
       "    }\n",
       "</style>\n",
       "<table border=\"1\" class=\"dataframe\">\n",
       "  <thead>\n",
       "    <tr style=\"text-align: right;\">\n",
       "      <th></th>\n",
       "      <th>Label</th>\n",
       "      <th>Tweet</th>\n",
       "    </tr>\n",
       "  </thead>\n",
       "  <tbody>\n",
       "    <tr>\n",
       "      <th>0</th>\n",
       "      <td>1</td>\n",
       "      <td>alhamdulilah orang jalan pt ibrahim daftar vak...</td>\n",
       "    </tr>\n",
       "    <tr>\n",
       "      <th>1</th>\n",
       "      <td>0</td>\n",
       "      <td>amah gue positif c sedih bgt pas dapet kabar k...</td>\n",
       "    </tr>\n",
       "    <tr>\n",
       "      <th>2</th>\n",
       "      <td>0</td>\n",
       "      <td>ancam sakit mati krn covid bgt yuk perbnyk bic...</td>\n",
       "    </tr>\n",
       "    <tr>\n",
       "      <th>3</th>\n",
       "      <td>0</td>\n",
       "      <td>anggap remeh wabah covid berat banjir igd kapa...</td>\n",
       "    </tr>\n",
       "    <tr>\n",
       "      <th>4</th>\n",
       "      <td>0</td>\n",
       "      <td>anggota komisi xi dpr fraksi partai demokrat d...</td>\n",
       "    </tr>\n",
       "    <tr>\n",
       "      <th>...</th>\n",
       "      <td>...</td>\n",
       "      <td>...</td>\n",
       "    </tr>\n",
       "    <tr>\n",
       "      <th>200</th>\n",
       "      <td>0</td>\n",
       "      <td>yg bs goreng isiu ngamuk karna laku ppkm darur...</td>\n",
       "    </tr>\n",
       "    <tr>\n",
       "      <th>201</th>\n",
       "      <td>0</td>\n",
       "      <td>yg habib mustofa al haddar kalimantan pes waki...</td>\n",
       "    </tr>\n",
       "    <tr>\n",
       "      <th>202</th>\n",
       "      <td>0</td>\n",
       "      <td>yg razia yaqut org nu kenal toa masjid seabreg...</td>\n",
       "    </tr>\n",
       "    <tr>\n",
       "      <th>203</th>\n",
       "      <td>0</td>\n",
       "      <td>yg wujud gagal perintah lindung rakyat gagal t...</td>\n",
       "    </tr>\n",
       "    <tr>\n",
       "      <th>204</th>\n",
       "      <td>0</td>\n",
       "      <td>yth presiden ri tolong stop terbang manusia ne...</td>\n",
       "    </tr>\n",
       "  </tbody>\n",
       "</table>\n",
       "<p>205 rows × 2 columns</p>\n",
       "</div>"
      ],
      "text/plain": [
       "     Label                                              Tweet\n",
       "0        1  alhamdulilah orang jalan pt ibrahim daftar vak...\n",
       "1        0  amah gue positif c sedih bgt pas dapet kabar k...\n",
       "2        0  ancam sakit mati krn covid bgt yuk perbnyk bic...\n",
       "3        0  anggap remeh wabah covid berat banjir igd kapa...\n",
       "4        0  anggota komisi xi dpr fraksi partai demokrat d...\n",
       "..     ...                                                ...\n",
       "200      0  yg bs goreng isiu ngamuk karna laku ppkm darur...\n",
       "201      0  yg habib mustofa al haddar kalimantan pes waki...\n",
       "202      0  yg razia yaqut org nu kenal toa masjid seabreg...\n",
       "203      0  yg wujud gagal perintah lindung rakyat gagal t...\n",
       "204      0  yth presiden ri tolong stop terbang manusia ne...\n",
       "\n",
       "[205 rows x 2 columns]"
      ]
     },
     "execution_count": 6,
     "metadata": {},
     "output_type": "execute_result"
    }
   ],
   "source": [
    "df_review = pd.read_csv(\"dataset_NBc_fedy1.csv\")\n",
    "df_review"
   ]
  },
  {
   "cell_type": "code",
   "execution_count": 7,
   "metadata": {
    "colab": {},
    "colab_type": "code",
    "id": "4uVEj4yZxtCv"
   },
   "outputs": [
    {
     "data": {
      "text/plain": [
       "0    119\n",
       "1     86\n",
       "Name: Label, dtype: int64"
      ]
     },
     "execution_count": 7,
     "metadata": {},
     "output_type": "execute_result"
    }
   ],
   "source": [
    "df_review[\"Label\"].value_counts()"
   ]
  },
  {
   "cell_type": "code",
   "execution_count": 8,
   "metadata": {},
   "outputs": [
    {
     "data": {
      "text/html": [
       "<div>\n",
       "<style scoped>\n",
       "    .dataframe tbody tr th:only-of-type {\n",
       "        vertical-align: middle;\n",
       "    }\n",
       "\n",
       "    .dataframe tbody tr th {\n",
       "        vertical-align: top;\n",
       "    }\n",
       "\n",
       "    .dataframe thead th {\n",
       "        text-align: right;\n",
       "    }\n",
       "</style>\n",
       "<table border=\"1\" class=\"dataframe\">\n",
       "  <thead>\n",
       "    <tr style=\"text-align: right;\">\n",
       "      <th></th>\n",
       "      <th>Label</th>\n",
       "      <th>Tweet</th>\n",
       "    </tr>\n",
       "  </thead>\n",
       "  <tbody>\n",
       "    <tr>\n",
       "      <th>0</th>\n",
       "      <td>1</td>\n",
       "      <td>alhamdulilah orang jalan pt ibrahim daftar vak...</td>\n",
       "    </tr>\n",
       "    <tr>\n",
       "      <th>1</th>\n",
       "      <td>0</td>\n",
       "      <td>amah gue positif c sedih bgt pas dapet kabar k...</td>\n",
       "    </tr>\n",
       "    <tr>\n",
       "      <th>2</th>\n",
       "      <td>0</td>\n",
       "      <td>ancam sakit mati krn covid bgt yuk perbnyk bic...</td>\n",
       "    </tr>\n",
       "    <tr>\n",
       "      <th>3</th>\n",
       "      <td>0</td>\n",
       "      <td>anggap remeh wabah covid berat banjir igd kapa...</td>\n",
       "    </tr>\n",
       "    <tr>\n",
       "      <th>4</th>\n",
       "      <td>0</td>\n",
       "      <td>anggota komisi xi dpr fraksi partai demokrat d...</td>\n",
       "    </tr>\n",
       "  </tbody>\n",
       "</table>\n",
       "</div>"
      ],
      "text/plain": [
       "   Label                                              Tweet\n",
       "0      1  alhamdulilah orang jalan pt ibrahim daftar vak...\n",
       "1      0  amah gue positif c sedih bgt pas dapet kabar k...\n",
       "2      0  ancam sakit mati krn covid bgt yuk perbnyk bic...\n",
       "3      0  anggap remeh wabah covid berat banjir igd kapa...\n",
       "4      0  anggota komisi xi dpr fraksi partai demokrat d..."
      ]
     },
     "execution_count": 8,
     "metadata": {},
     "output_type": "execute_result"
    }
   ],
   "source": [
    "df_preprocessed = df_review.copy()\n",
    "#df_preprocessed = df_preprocessed.drop(columns=['Date', 'Name'])\n",
    "df_preprocessed.head()"
   ]
  },
  {
   "cell_type": "code",
   "execution_count": 9,
   "metadata": {},
   "outputs": [
    {
     "name": "stdout",
     "output_type": "stream",
     "text": [
      "(205, 2)\n",
      "0    0.580488\n",
      "1    0.419512\n",
      "Name: Label, dtype: float64\n"
     ]
    }
   ],
   "source": [
    "# s_1 = df_preprocessed[df_preprocessed['label']==0].sample(25000,replace=True)\n",
    "# s_2 = df_preprocessed[df_preprocessed['label']==1].sample(25000,replace=True)\n",
    "# df_preprocessed = pd.concat([s_1, s_2])\n",
    "\n",
    "print(df_preprocessed.shape)\n",
    "print(df_preprocessed['Label'].value_counts(normalize=True))"
   ]
  },
  {
   "cell_type": "code",
   "execution_count": 10,
   "metadata": {},
   "outputs": [
    {
     "data": {
      "text/plain": [
       "0    119\n",
       "1     86\n",
       "Name: Label, dtype: int64"
      ]
     },
     "execution_count": 10,
     "metadata": {},
     "output_type": "execute_result"
    }
   ],
   "source": [
    "df_review[\"Label\"].value_counts()"
   ]
  },
  {
   "cell_type": "code",
   "execution_count": 11,
   "metadata": {
    "colab": {},
    "colab_type": "code",
    "id": "dA6BMns3y-Qy"
   },
   "outputs": [],
   "source": [
    "# from wordcloud import WordCloud\n",
    "# import matplotlib.pyplot as plt\n",
    "\n",
    "\n",
    "# # Polarity == 0 negative\n",
    "# train_s0 = df_preprocessed[df_preprocessed[\"Label\"] == 0]\n",
    "# all_text_s0 = ' '.join(word for word in train_s0[\"Tweet\"])\n",
    "# wordcloud = WordCloud(colormap='Reds', width=1000, height=1000, mode='RGBA', background_color='white').generate(all_text_s0)\n",
    "# plt.figure(figsize=(20,10))\n",
    "# plt.imshow(wordcloud, interpolation='bilinear')\n",
    "# plt.axis(\"off\")\n",
    "# plt.margins(x=0, y=0)\n",
    "# plt.show()\n",
    "\n",
    "# #Polarity == 1 positive\n",
    "# train_s1 = df_preprocessed[df_preprocessed[\"Label\"] == 1]\n",
    "# all_text_s1 = ' '.join(word for word in train_s1[\"Tweet\"])\n",
    "# wordcloud = WordCloud(width=1000, height=1000, colormap='Blues', background_color='white', mode='RGBA').generate(all_text_s1)\n",
    "# plt.figure( figsize=(20,10))\n",
    "# plt.imshow(wordcloud, interpolation='bilinear')\n",
    "# plt.axis(\"off\")\n",
    "# plt.margins(x=0, y=0)\n",
    "# plt.show()\n",
    "\n"
   ]
  },
  {
   "cell_type": "code",
   "execution_count": 12,
   "metadata": {
    "colab": {},
    "colab_type": "code",
    "id": "jcPIPR5Q-Kda"
   },
   "outputs": [],
   "source": [
    "# wf=wordcloud.words_\n",
    "wf=df_preprocessed"
   ]
  },
  {
   "cell_type": "code",
   "execution_count": 13,
   "metadata": {
    "colab": {},
    "colab_type": "code",
    "id": "H51Lbgx3zQHq"
   },
   "outputs": [],
   "source": [
    "import string, re\n",
    "\n",
    "def cleansing(data):\n",
    "    # lower text\n",
    "    data = data.lower()\n",
    "    \n",
    "    # hapus punctuation\n",
    "    remove = string.punctuation\n",
    "    translator = str.maketrans(remove, ' '*len(remove))\n",
    "    data = data.translate(translator)\n",
    "    \n",
    "    # remove ASCII dan unicode\n",
    "    data = data.encode('ascii', 'ignore').decode('utf-8')\n",
    "    data = re.sub(r'[^\\x00-\\x7f]',r'', data)\n",
    "    \n",
    "    # remove newline\n",
    "    data = data.replace('\\n', ' ')\n",
    "    \n",
    "    return data"
   ]
  },
  {
   "cell_type": "code",
   "execution_count": 14,
   "metadata": {
    "colab": {},
    "colab_type": "code",
    "id": "kJzhCHq3zVc6"
   },
   "outputs": [
    {
     "data": {
      "text/html": [
       "<div>\n",
       "<style scoped>\n",
       "    .dataframe tbody tr th:only-of-type {\n",
       "        vertical-align: middle;\n",
       "    }\n",
       "\n",
       "    .dataframe tbody tr th {\n",
       "        vertical-align: top;\n",
       "    }\n",
       "\n",
       "    .dataframe thead th {\n",
       "        text-align: right;\n",
       "    }\n",
       "</style>\n",
       "<table border=\"1\" class=\"dataframe\">\n",
       "  <thead>\n",
       "    <tr style=\"text-align: right;\">\n",
       "      <th></th>\n",
       "      <th>Label</th>\n",
       "      <th>Tweet</th>\n",
       "    </tr>\n",
       "  </thead>\n",
       "  <tbody>\n",
       "    <tr>\n",
       "      <th>0</th>\n",
       "      <td>1</td>\n",
       "      <td>alhamdulilah orang jalan pt ibrahim daftar vak...</td>\n",
       "    </tr>\n",
       "    <tr>\n",
       "      <th>1</th>\n",
       "      <td>0</td>\n",
       "      <td>amah gue positif c sedih bgt pas dapet kabar k...</td>\n",
       "    </tr>\n",
       "    <tr>\n",
       "      <th>2</th>\n",
       "      <td>0</td>\n",
       "      <td>ancam sakit mati krn covid bgt yuk perbnyk bic...</td>\n",
       "    </tr>\n",
       "    <tr>\n",
       "      <th>3</th>\n",
       "      <td>0</td>\n",
       "      <td>anggap remeh wabah covid berat banjir igd kapa...</td>\n",
       "    </tr>\n",
       "    <tr>\n",
       "      <th>4</th>\n",
       "      <td>0</td>\n",
       "      <td>anggota komisi xi dpr fraksi partai demokrat d...</td>\n",
       "    </tr>\n",
       "  </tbody>\n",
       "</table>\n",
       "</div>"
      ],
      "text/plain": [
       "   Label                                              Tweet\n",
       "0      1  alhamdulilah orang jalan pt ibrahim daftar vak...\n",
       "1      0  amah gue positif c sedih bgt pas dapet kabar k...\n",
       "2      0  ancam sakit mati krn covid bgt yuk perbnyk bic...\n",
       "3      0  anggap remeh wabah covid berat banjir igd kapa...\n",
       "4      0  anggota komisi xi dpr fraksi partai demokrat d..."
      ]
     },
     "execution_count": 14,
     "metadata": {},
     "output_type": "execute_result"
    }
   ],
   "source": [
    "# jalankan cleansing data\n",
    "review = []\n",
    "for index, row in df_preprocessed.iterrows():\n",
    "    review.append(cleansing(row[\"Tweet\"]))\n",
    "    \n",
    "df_preprocessed[\"Tweet\"] = review\n",
    "df_preprocessed.head()"
   ]
  },
  {
   "cell_type": "code",
   "execution_count": 15,
   "metadata": {
    "colab": {},
    "colab_type": "code",
    "id": "_5-YP75uztVb"
   },
   "outputs": [
    {
     "name": "stdout",
     "output_type": "stream",
     "text": [
      "Requirement already satisfied: Sastrawi in c:\\users\\king\\appdata\\local\\programs\\python\\python38\\lib\\site-packages (1.0.1)\n"
     ]
    },
    {
     "name": "stderr",
     "output_type": "stream",
     "text": [
      "WARNING: You are using pip version 21.1.2; however, version 21.2.1 is available.\n",
      "You should consider upgrading via the 'c:\\users\\king\\appdata\\local\\programs\\python\\python38\\python.exe -m pip install --upgrade pip' command.\n"
     ]
    }
   ],
   "source": [
    "!pip install Sastrawi"
   ]
  },
  {
   "cell_type": "code",
   "execution_count": 16,
   "metadata": {
    "colab": {},
    "colab_type": "code",
    "id": "nQdTUD6Fzt7t"
   },
   "outputs": [
    {
     "name": "stdout",
     "output_type": "stream",
     "text": [
      "Dengan mencuci tangan bersih memakai masker dapat terhindar virus corona\n"
     ]
    }
   ],
   "source": [
    "# import library\n",
    "from Sastrawi.StopWordRemover.StopWordRemoverFactory import StopWordRemoverFactory\n",
    " \n",
    "factory = StopWordRemoverFactory()\n",
    "stopword = factory.create_stop_word_remover()\n",
    " \n",
    "# Contoh\n",
    "kalimat = 'Dengan mencuci tangan yang bersih dan memakai masker saya dapat terhindar dari virus corona'\n",
    "stop = stopword.remove(kalimat)\n",
    "print(stop)"
   ]
  },
  {
   "cell_type": "code",
   "execution_count": 17,
   "metadata": {
    "colab": {},
    "colab_type": "code",
    "id": "NTT5lXCXz0dZ"
   },
   "outputs": [
    {
     "data": {
      "text/html": [
       "<div>\n",
       "<style scoped>\n",
       "    .dataframe tbody tr th:only-of-type {\n",
       "        vertical-align: middle;\n",
       "    }\n",
       "\n",
       "    .dataframe tbody tr th {\n",
       "        vertical-align: top;\n",
       "    }\n",
       "\n",
       "    .dataframe thead th {\n",
       "        text-align: right;\n",
       "    }\n",
       "</style>\n",
       "<table border=\"1\" class=\"dataframe\">\n",
       "  <thead>\n",
       "    <tr style=\"text-align: right;\">\n",
       "      <th></th>\n",
       "      <th>Label</th>\n",
       "      <th>Tweet</th>\n",
       "    </tr>\n",
       "  </thead>\n",
       "  <tbody>\n",
       "    <tr>\n",
       "      <th>0</th>\n",
       "      <td>1</td>\n",
       "      <td>alhamdulilah orang jalan pt ibrahim daftar vak...</td>\n",
       "    </tr>\n",
       "    <tr>\n",
       "      <th>1</th>\n",
       "      <td>0</td>\n",
       "      <td>amah gue positif c sedih bgt pas dapet kabar k...</td>\n",
       "    </tr>\n",
       "    <tr>\n",
       "      <th>2</th>\n",
       "      <td>0</td>\n",
       "      <td>ancam sakit mati krn covid bgt yuk perbnyk bic...</td>\n",
       "    </tr>\n",
       "    <tr>\n",
       "      <th>3</th>\n",
       "      <td>0</td>\n",
       "      <td>anggap remeh wabah covid berat banjir igd kapa...</td>\n",
       "    </tr>\n",
       "    <tr>\n",
       "      <th>4</th>\n",
       "      <td>0</td>\n",
       "      <td>anggota komisi xi dpr fraksi partai demokrat d...</td>\n",
       "    </tr>\n",
       "  </tbody>\n",
       "</table>\n",
       "</div>"
      ],
      "text/plain": [
       "   Label                                              Tweet\n",
       "0      1  alhamdulilah orang jalan pt ibrahim daftar vak...\n",
       "1      0  amah gue positif c sedih bgt pas dapet kabar k...\n",
       "2      0  ancam sakit mati krn covid bgt yuk perbnyk bic...\n",
       "3      0  anggap remeh wabah covid berat banjir igd kapa...\n",
       "4      0  anggota komisi xi dpr fraksi partai demokrat d..."
      ]
     },
     "execution_count": 17,
     "metadata": {},
     "output_type": "execute_result"
    }
   ],
   "source": [
    "# lakukan pada data kita\n",
    "\n",
    "review = []\n",
    "for index, row in df_preprocessed.iterrows():\n",
    "    review.append(stopword.remove(row[\"Tweet\"]))\n",
    "    \n",
    "df_preprocessed[\"Tweet\"] = review\n",
    "df_preprocessed.head()"
   ]
  },
  {
   "cell_type": "code",
   "execution_count": 18,
   "metadata": {
    "colab": {},
    "colab_type": "code",
    "id": "pqRvjqvkz-G8"
   },
   "outputs": [
    {
     "name": "stdout",
     "output_type": "stream",
     "text": [
      "tim nama liverpool adalah klub hebat tidak seperti si itu wkwkwk\n"
     ]
    }
   ],
   "source": [
    "from Sastrawi.Stemmer.StemmerFactory import StemmerFactory\n",
    "factory = StemmerFactory()\n",
    "stemmer = factory.create_stemmer()\n",
    "\n",
    "# contoh\n",
    "kalimat = 'Tim bernama Liverpool adalah klub hebat tidak seperti si itu WkwkWK'\n",
    "katadasar = stemmer.stem(kalimat)\n",
    " \n",
    "print(katadasar)"
   ]
  },
  {
   "cell_type": "code",
   "execution_count": 19,
   "metadata": {
    "colab": {},
    "colab_type": "code",
    "id": "WFQmwS7M0MlP"
   },
   "outputs": [
    {
     "data": {
      "text/html": [
       "<div>\n",
       "<style scoped>\n",
       "    .dataframe tbody tr th:only-of-type {\n",
       "        vertical-align: middle;\n",
       "    }\n",
       "\n",
       "    .dataframe tbody tr th {\n",
       "        vertical-align: top;\n",
       "    }\n",
       "\n",
       "    .dataframe thead th {\n",
       "        text-align: right;\n",
       "    }\n",
       "</style>\n",
       "<table border=\"1\" class=\"dataframe\">\n",
       "  <thead>\n",
       "    <tr style=\"text-align: right;\">\n",
       "      <th></th>\n",
       "      <th>Label</th>\n",
       "      <th>Tweet</th>\n",
       "    </tr>\n",
       "  </thead>\n",
       "  <tbody>\n",
       "    <tr>\n",
       "      <th>0</th>\n",
       "      <td>1</td>\n",
       "      <td>alhamdulilah orang jalan pt ibrahim daftar vak...</td>\n",
       "    </tr>\n",
       "    <tr>\n",
       "      <th>1</th>\n",
       "      <td>0</td>\n",
       "      <td>amah gue positif c sedih bgt pas dapet kabar k...</td>\n",
       "    </tr>\n",
       "    <tr>\n",
       "      <th>2</th>\n",
       "      <td>0</td>\n",
       "      <td>ancam sakit mati krn covid bgt yuk perbnyk bic...</td>\n",
       "    </tr>\n",
       "    <tr>\n",
       "      <th>3</th>\n",
       "      <td>0</td>\n",
       "      <td>anggap remeh wabah covid berat banjir igd kapa...</td>\n",
       "    </tr>\n",
       "    <tr>\n",
       "      <th>4</th>\n",
       "      <td>0</td>\n",
       "      <td>anggota komisi xi dpr fraksi partai demokrat d...</td>\n",
       "    </tr>\n",
       "  </tbody>\n",
       "</table>\n",
       "</div>"
      ],
      "text/plain": [
       "   Label                                              Tweet\n",
       "0      1  alhamdulilah orang jalan pt ibrahim daftar vak...\n",
       "1      0  amah gue positif c sedih bgt pas dapet kabar k...\n",
       "2      0  ancam sakit mati krn covid bgt yuk perbnyk bic...\n",
       "3      0  anggap remeh wabah covid berat banjir igd kapa...\n",
       "4      0  anggota komisi xi dpr fraksi partai demokrat d..."
      ]
     },
     "execution_count": 19,
     "metadata": {},
     "output_type": "execute_result"
    }
   ],
   "source": [
    "# implementasi pada data kita\n",
    "review = []\n",
    "for index, row in df_preprocessed.iterrows():\n",
    "    review.append(stemmer.stem(row[\"Tweet\"]))\n",
    "    \n",
    "df_preprocessed[\"Tweet\"] = review\n",
    "df_preprocessed.head()"
   ]
  },
  {
   "cell_type": "code",
   "execution_count": 20,
   "metadata": {
    "colab": {},
    "colab_type": "code",
    "id": "0HKj6bsN0bvr"
   },
   "outputs": [],
   "source": [
    "from sklearn.model_selection import train_test_split\n",
    "\n",
    "X_train, X_test, y_train, y_test = train_test_split(df_preprocessed['Tweet'], df_preprocessed['Label'], \n",
    "                                                    test_size=0.2, stratify=df_preprocessed['Label'], random_state=0)"
   ]
  },
  {
   "cell_type": "code",
   "execution_count": 21,
   "metadata": {
    "colab": {},
    "colab_type": "code",
    "id": "4eesOyYR0sFk"
   },
   "outputs": [
    {
     "data": {
      "text/plain": [
       "array([[0.        , 0.49248889, 0.        , 0.40264194, 0.77157901,\n",
       "        0.        ],\n",
       "       [0.77157901, 0.49248889, 0.        , 0.40264194, 0.        ,\n",
       "        0.        ],\n",
       "       [0.        , 0.49248889, 0.        , 0.40264194, 0.        ,\n",
       "        0.77157901],\n",
       "       [0.        , 0.        , 0.88654763, 0.46263733, 0.        ,\n",
       "        0.        ]])"
      ]
     },
     "execution_count": 21,
     "metadata": {},
     "output_type": "execute_result"
    }
   ],
   "source": [
    "from sklearn.feature_extraction.text import TfidfVectorizer\n",
    "\n",
    "corpus = [\n",
    "    'Pusing satu kali',\n",
    "    'Pusing dua kali',\n",
    "    'Pusing tiga kali',\n",
    "    'Pusing lagi']\n",
    "\n",
    "vectorizer = TfidfVectorizer()\n",
    "\n",
    "# contoh\n",
    "X = vectorizer.fit_transform(corpus)\n",
    "X.toarray()"
   ]
  },
  {
   "cell_type": "code",
   "execution_count": 22,
   "metadata": {
    "colab": {},
    "colab_type": "code",
    "id": "pvgTDVoy3jEP"
   },
   "outputs": [
    {
     "name": "stdout",
     "output_type": "stream",
     "text": [
      "(164, 1293)\n",
      "(41, 1293)\n"
     ]
    }
   ],
   "source": [
    "# implementasi pada dokumen kita\n",
    "X_train = vectorizer.fit_transform(X_train)\n",
    "X_test = vectorizer.transform(X_test)\n",
    "\n",
    "print(X_train.shape)\n",
    "print(X_test.shape)"
   ]
  },
  {
   "cell_type": "code",
   "execution_count": 23,
   "metadata": {
    "colab": {},
    "colab_type": "code",
    "id": "FBPbFhX23m_a"
   },
   "outputs": [],
   "source": [
    "def preprocess_data(data):\n",
    "    # cleansing data\n",
    "    data = cleansing(data)\n",
    "    \n",
    "    # hapus stopwords\n",
    "    factory = StopWordRemoverFactory()\n",
    "    stopword = factory.create_stop_word_remover()\n",
    "    data = stopword.remove(data)\n",
    "    \n",
    "    # stemming\n",
    "    factory = StemmerFactory()\n",
    "    stemmer = factory.create_stemmer()\n",
    "    data = stemmer.stem(data)\n",
    "    \n",
    "    # count vectorizer\n",
    "    data = vectorizer.transform([data])\n",
    "    \n",
    "    return data"
   ]
  },
  {
   "cell_type": "code",
   "execution_count": 24,
   "metadata": {},
   "outputs": [],
   "source": [
    "from sklearn.naive_bayes import GaussianNB\n",
    "from sklearn.metrics import accuracy_score\n",
    "\n",
    "model = GaussianNB()\n",
    "# model.fit(X_train, y_train)\n",
    "# y_pred = model.predict(X_test)\n",
    "#accuracy_score(y_test, y_pred)"
   ]
  },
  {
   "cell_type": "code",
   "execution_count": 25,
   "metadata": {
    "colab": {},
    "colab_type": "code",
    "id": "Cui3yR7C5XFk"
   },
   "outputs": [],
   "source": [
    "# # lakukan prediksi pada data test\n",
    "# clf.fit(X_train,y_train)\n",
    "# predict = clf.predict(X_test)"
   ]
  },
  {
   "cell_type": "code",
   "execution_count": 26,
   "metadata": {},
   "outputs": [],
   "source": [
    "#lakukan prediksi pada data test\n",
    "model.fit(X_train.todense(),y_train)\n",
    "#predict = model.predict(X_test)\n",
    "y_pred = model.predict(X_test.toarray())\n"
   ]
  },
  {
   "cell_type": "code",
   "execution_count": 27,
   "metadata": {
    "colab": {},
    "colab_type": "code",
    "id": "avRdSeY95Z5Q"
   },
   "outputs": [],
   "source": [
    "# import library evaluation\n",
    "from sklearn.metrics import f1_score, recall_score, precision_score, confusion_matrix, accuracy_score"
   ]
  },
  {
   "cell_type": "code",
   "execution_count": 28,
   "metadata": {
    "colab": {},
    "colab_type": "code",
    "id": "_YxI9si15b8M"
   },
   "outputs": [
    {
     "name": "stdout",
     "output_type": "stream",
     "text": [
      "accuracy score hasil prediksi adalah: \n",
      "0.7073170731707317\n",
      "precision score hasil prediksi adalah: \n",
      "0.7272727272727273\n",
      "recall score hasil prediksi adalah: \n",
      "0.47058823529411764\n"
     ]
    }
   ],
   "source": [
    "# # f1_score\n",
    "# print(\"f1 score hasil prediksi adalah: \")\n",
    "# print(f1_score(y_test, y_pred))\n",
    "\n",
    "# accuracy score\n",
    "print(\"accuracy score hasil prediksi adalah: \")\n",
    "print(accuracy_score(y_test, y_pred))\n",
    "\n",
    "# precision score\n",
    "print(\"precision score hasil prediksi adalah: \")\n",
    "print(precision_score(y_test, y_pred))\n",
    "\n",
    "# recall score\n",
    "print(\"recall score hasil prediksi adalah: \")\n",
    "print(recall_score(y_test, y_pred))"
   ]
  },
  {
   "cell_type": "code",
   "execution_count": 45,
   "metadata": {
    "colab": {},
    "colab_type": "code",
    "id": "oYyjUGr45eDq"
   },
   "outputs": [
    {
     "data": {
      "text/plain": [
       "(21, 3, 9, 8)"
      ]
     },
     "execution_count": 45,
     "metadata": {},
     "output_type": "execute_result"
    }
   ],
   "source": [
    "# confusion matrix\n",
    "tn, fp, fn, tp = confusion_matrix(y_test, y_pred).ravel()\n",
    "tn, fp, fn, tp"
   ]
  },
  {
   "cell_type": "code",
   "execution_count": 29,
   "metadata": {},
   "outputs": [
    {
     "name": "stdout",
     "output_type": "stream",
     "text": [
      "Requirement already satisfied: pipeline in c:\\users\\king\\appdata\\local\\programs\\python\\python38\\lib\\site-packages (0.1.0)"
     ]
    },
    {
     "name": "stderr",
     "output_type": "stream",
     "text": [
      "WARNING: You are using pip version 21.1.2; however, version 21.1.3 is available.\n",
      "You should consider upgrading via the 'c:\\users\\king\\appdata\\local\\programs\\python\\python38\\python.exe -m pip install --upgrade pip' command.\n"
     ]
    },
    {
     "name": "stdout",
     "output_type": "stream",
     "text": [
      "\n"
     ]
    }
   ],
   "source": [
    "!pip install pipeline"
   ]
  },
  {
   "cell_type": "code",
   "execution_count": 30,
   "metadata": {
    "colab": {},
    "colab_type": "code",
    "id": "5xs711F26JSQ"
   },
   "outputs": [],
   "source": [
    "Tweet_positif = \"kualitas vaksin milik rs silo memang mantap banget pokoknya\"\n",
    "Tweet_negatif = \"respon rs sebelah kok jelek banget sih\""
   ]
  },
  {
   "cell_type": "code",
   "execution_count": 4,
   "metadata": {
    "colab": {},
    "colab_type": "code",
    "id": "GERu3_hQ6TlH"
   },
   "outputs": [],
   "source": [
    "# model.predict(preprocess_data(Tweet_positif))\n",
    "## y_pred = model.predict(X_test.toarray())\n",
    "## model.predict(preprocess_data(X_test.toarray(Tweet_positif)))"
   ]
  },
  {
   "cell_type": "code",
   "execution_count": 33,
   "metadata": {
    "colab": {},
    "colab_type": "code",
    "id": "phQu5hv06Ul3"
   },
   "outputs": [],
   "source": [
    "#model.predict(preprocess_data(Tweet_negatif))"
   ]
  }
 ],
 "metadata": {
  "accelerator": "TPU",
  "colab": {
   "collapsed_sections": [],
   "name": "Sentiment Twitter",
   "provenance": []
  },
  "kernelspec": {
   "display_name": "Python 3",
   "language": "python",
   "name": "python3"
  },
  "language_info": {
   "codemirror_mode": {
    "name": "ipython",
    "version": 3
   },
   "file_extension": ".py",
   "mimetype": "text/x-python",
   "name": "python",
   "nbconvert_exporter": "python",
   "pygments_lexer": "ipython3",
   "version": "3.8.0"
  }
 },
 "nbformat": 4,
 "nbformat_minor": 1
}
