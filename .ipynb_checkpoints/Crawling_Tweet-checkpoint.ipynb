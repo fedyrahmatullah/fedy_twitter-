{
 "cells": [
  {
   "cell_type": "code",
   "execution_count": 20,
   "metadata": {},
   "outputs": [],
   "source": [
    "import tweepy\n",
    "from tweepy import OAuthHandler\n",
    "import re\n",
    "import csv\n",
    "import pandas as pd\n",
    "from datetime import timedelta, datetime"
   ]
  },
  {
   "cell_type": "code",
   "execution_count": 21,
   "metadata": {},
   "outputs": [],
   "source": [
    "access_token='1143195183774781441-pz9Jfiuh6pJZQoUEVd3lBM3u3rPzGO'\n",
    "access_token_secret='asjWTD2st5cCXc0RjrhM93YwvtfeI0i9RTF1QOBm69b0X'\n",
    "consumer_key='Qgzm8A9N4pVc107IwBsgqunHs'\n",
    "consumer_key_secret='FQ5KXIrYaieWorN04uwOnx5iopeZyAMENqfh5nHZRTNqqK1ESH'"
   ]
  },
  {
   "cell_type": "code",
   "execution_count": 22,
   "metadata": {},
   "outputs": [],
   "source": [
    "auth = OAuthHandler(consumer_key, consumer_key_secret)\n",
    "auth.set_access_token(access_token, access_token_secret)\n",
    "api = tweepy.API(auth)"
   ]
  },
  {
   "cell_type": "code",
   "execution_count": 23,
   "metadata": {},
   "outputs": [
    {
     "name": "stdout",
     "output_type": "stream",
     "text": [
      "Proses Scrapping Selesai Dengan Jumlah Data 1000\n"
     ]
    },
    {
     "ename": "NameError",
     "evalue": "name 'tweet' is not defined",
     "output_type": "error",
     "traceback": [
      "\u001b[1;31m---------------------------------------------------------------------------\u001b[0m",
      "\u001b[1;31mNameError\u001b[0m                                 Traceback (most recent call last)",
      "\u001b[1;32m<ipython-input-23-d04487012a3d>\u001b[0m in \u001b[0;36m<module>\u001b[1;34m\u001b[0m\n\u001b[0;32m     35\u001b[0m \u001b[1;33m\u001b[0m\u001b[0m\n\u001b[0;32m     36\u001b[0m \u001b[0mscraptweets\u001b[0m\u001b[1;33m(\u001b[0m\u001b[0msearch_words\u001b[0m\u001b[1;33m,\u001b[0m \u001b[0mdate_since\u001b[0m\u001b[1;33m,\u001b[0m \u001b[0mdate_until\u001b[0m\u001b[1;33m)\u001b[0m\u001b[1;33m\u001b[0m\u001b[1;33m\u001b[0m\u001b[0m\n\u001b[1;32m---> 37\u001b[1;33m \u001b[0mtweet_bersih\u001b[0m \u001b[1;33m=\u001b[0m \u001b[1;34m' '\u001b[0m\u001b[1;33m.\u001b[0m\u001b[0mjoin\u001b[0m\u001b[1;33m(\u001b[0m\u001b[0mre\u001b[0m\u001b[1;33m.\u001b[0m\u001b[0msub\u001b[0m\u001b[1;33m(\u001b[0m\u001b[1;34m\"(@[A-Za-z0-9]+)|([^0-9A-Za-z \\t])|(\\w+:\\/\\/\\S+)\"\u001b[0m\u001b[1;33m,\u001b[0m\u001b[1;34m\" \"\u001b[0m\u001b[1;33m,\u001b[0m\u001b[0mtweet\u001b[0m\u001b[1;33m.\u001b[0m\u001b[0mtext\u001b[0m\u001b[1;33m)\u001b[0m\u001b[1;33m.\u001b[0m\u001b[0msplit\u001b[0m\u001b[1;33m(\u001b[0m\u001b[1;33m)\u001b[0m\u001b[1;33m)\u001b[0m\u001b[1;33m\u001b[0m\u001b[1;33m\u001b[0m\u001b[0m\n\u001b[0m",
      "\u001b[1;31mNameError\u001b[0m: name 'tweet' is not defined"
     ]
    }
   ],
   "source": [
    "def scraptweets(search_words, date_since, date_until):\n",
    "\n",
    "    db_tweets = pd.DataFrame(columns=['username', 'tweetcreatedts', 'text'])\n",
    "\n",
    "    tweets = tweepy.Cursor(\n",
    "                    api.search, q=search_words, lang=\"id\", \n",
    "                    since=date_since, until=date_until,  tweet_mode='extended').items(1000)\n",
    "\n",
    "    tweet_list = [tweet for tweet in tweets]\n",
    "\n",
    "    for tweet in tweet_list:\n",
    "        username = tweet.user.screen_name\n",
    "        tweetcreatedts = tweet.created_at\n",
    "\n",
    "        try:\n",
    "            text = tweet.retweeted_status.full_text\n",
    "        except AttributeError:\n",
    "            text = tweet.full_text\n",
    "\n",
    "        ith_tweet = [username, tweetcreatedts, text]\n",
    "\n",
    "        db_tweets.loc[len(db_tweets)] = ith_tweet\n",
    "    \n",
    "    print('Proses Scrapping Selesai Dengan Jumlah Data', len(db_tweets))\n",
    "    filename = 'Crawling_Covid_beta.csv'\n",
    "    db_tweets.to_csv(filename, index=False)\n",
    "\n",
    "today = datetime.today().strftime(\"%Y-%m-%d\")\n",
    "last_week = datetime.today() - timedelta(7)\n",
    "last_week = last_week.strftime(\"%Y-%m-%d\")\n",
    "\n",
    "search_words = \"covid-19\"\n",
    "date_since = last_week\n",
    "date_until = today\n",
    "\n",
    "scraptweets(search_words, date_since, date_until)\n",
    "#tweet_bersih = ' '.join(re.sub(\"(@[A-Za-z0-9]+)|([^0-9A-Za-z \\t])|(\\w+:\\/\\/\\S+)\",\" \",tweet.text).split())"
   ]
  },
  {
   "cell_type": "code",
   "execution_count": 27,
   "metadata": {},
   "outputs": [
    {
     "ename": "NameError",
     "evalue": "name 'db_tweet' is not defined",
     "output_type": "error",
     "traceback": [
      "\u001b[1;31m---------------------------------------------------------------------------\u001b[0m",
      "\u001b[1;31mNameError\u001b[0m                                 Traceback (most recent call last)",
      "\u001b[1;32m<ipython-input-27-77cdb2b81313>\u001b[0m in \u001b[0;36m<module>\u001b[1;34m\u001b[0m\n\u001b[1;32m----> 1\u001b[1;33m \u001b[0mprint\u001b[0m\u001b[1;33m(\u001b[0m\u001b[0mdb_tweet\u001b[0m\u001b[1;33m)\u001b[0m\u001b[1;33m\u001b[0m\u001b[1;33m\u001b[0m\u001b[0m\n\u001b[0m",
      "\u001b[1;31mNameError\u001b[0m: name 'db_tweet' is not defined"
     ]
    }
   ],
   "source": []
  },
  {
   "cell_type": "code",
   "execution_count": 31,
   "metadata": {},
   "outputs": [],
   "source": [
    "#Crawling Model 2\n",
    "import tweepy\n",
    "import csv\n",
    "import pandas as pd\n",
    "\n",
    "access_token='1143195183774781441-pz9Jfiuh6pJZQoUEVd3lBM3u3rPzGO'\n",
    "access_token_secret='asjWTD2st5cCXc0RjrhM93YwvtfeI0i9RTF1QOBm69b0X'\n",
    "consumer_key='Qgzm8A9N4pVc107IwBsgqunHs'\n",
    "consumer_key_secret='FQ5KXIrYaieWorN04uwOnx5iopeZyAMENqfh5nHZRTNqqK1ESH'\n",
    "\n",
    "auth = tweepy.OAuthHandler(consumer_key,consumer_key_secret)\n",
    "api = tweepy.API(auth)\n",
    "\n",
    "# Open/create a file to append data to\n",
    "csvFile = open('dataset_covid_01-07-2021.csv', 'w', encoding='utf-8')\n",
    "\n",
    "#Use csv writer\n",
    "csvWriter = csv.writer(csvFile)\n",
    "db_tweets = pd.DataFrame(columns=['username', 'tweetcreatedts', 'text'])\n",
    "for tweet in tweepy.Cursor(api.search, q='covid-19 -filter:retweets', tweet_mode='extended',lang=\"id\", since='2021-07-01', until='2021-07-01').items(1000):\n",
    "    text = tweet.full_text\n",
    "    user = tweet.user.screen_name\n",
    "    created = tweet.created_at\n",
    "    csvWriter.writerow([created, text.encode('utf-8'), user])\n",
    "csvWriter = csv.writer(csvFile)\n",
    "csvFile.close()"
   ]
  },
  {
   "cell_type": "code",
   "execution_count": 38,
   "metadata": {},
   "outputs": [],
   "source": [
    "import tweepy\n",
    "import csv\n",
    "import pandas as pd\n",
    "\n",
    "access_token='1143195183774781441-pz9Jfiuh6pJZQoUEVd3lBM3u3rPzGO'\n",
    "access_token_secret='asjWTD2st5cCXc0RjrhM93YwvtfeI0i9RTF1QOBm69b0X'\n",
    "consumer_key='Qgzm8A9N4pVc107IwBsgqunHs'\n",
    "consumer_key_secret='FQ5KXIrYaieWorN04uwOnx5iopeZyAMENqfh5nHZRTNqqK1ESH'\n",
    "\n",
    "auth = tweepy.OAuthHandler(consumer_key,consumer_key_secret)\n",
    "api = tweepy.API(auth)\n",
    "\n",
    "# Open/create a file to append data to\n",
    "csvFile = open('dataset_covid_01-till-02-07-2021.csv', 'w', encoding='utf-8')\n",
    "\n",
    "#Use csv writer\n",
    "csvWriter = csv.writer(csvFile)\n",
    "db_tweets = pd.DataFrame(columns=['tweetcreatedt', 'username', 'text', 'retweet_count', 'like'])\n",
    "for tweet in tweepy.Cursor(api.search, q='covid-19 -filter:retweets', tweet_mode='extended',lang=\"id\", since='2021-07-01', until='2021-07-02').items(1000):\n",
    "    text = tweet.full_text\n",
    "    user = tweet.user.screen_name\n",
    "    created = tweet.created_at\n",
    "    retweet_count = tweet.retweet_count\n",
    "    like = tweet.favorite_count\n",
    "    csvWriter.writerow([created, text.encode('utf-8'), user, retweet_count, like])\n",
    "csvWriter = csv.writer(csvFile)\n",
    "csvFile.close()"
   ]
  },
  {
   "cell_type": "code",
   "execution_count": null,
   "metadata": {},
   "outputs": [],
   "source": []
  }
 ],
 "metadata": {
  "kernelspec": {
   "display_name": "Python 3",
   "language": "python",
   "name": "python3"
  },
  "language_info": {
   "codemirror_mode": {
    "name": "ipython",
    "version": 3
   },
   "file_extension": ".py",
   "mimetype": "text/x-python",
   "name": "python",
   "nbconvert_exporter": "python",
   "pygments_lexer": "ipython3",
   "version": "3.8.3"
  }
 },
 "nbformat": 4,
 "nbformat_minor": 4
}
