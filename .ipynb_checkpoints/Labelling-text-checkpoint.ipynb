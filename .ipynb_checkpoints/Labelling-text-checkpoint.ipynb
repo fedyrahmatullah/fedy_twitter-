{
 "cells": [
  {
   "cell_type": "code",
   "execution_count": 272,
   "metadata": {},
   "outputs": [],
   "source": [
    "import pandas as pd\n",
    "import re\n",
    "import string"
   ]
  },
  {
   "cell_type": "code",
   "execution_count": 273,
   "metadata": {},
   "outputs": [],
   "source": [
    "def load_data():\n",
    "    data = pd.read_csv('remove_http -with-label-dataset.csv')\n",
    "    return data"
   ]
  },
  {
   "cell_type": "code",
   "execution_count": 274,
   "metadata": {},
   "outputs": [],
   "source": [
    "tweet_df = load_data()\n",
    "#tweet_df.head(n=50)"
   ]
  },
  {
   "cell_type": "code",
   "execution_count": 275,
   "metadata": {},
   "outputs": [
    {
     "data": {
      "text/html": [
       "<div>\n",
       "<style scoped>\n",
       "    .dataframe tbody tr th:only-of-type {\n",
       "        vertical-align: middle;\n",
       "    }\n",
       "\n",
       "    .dataframe tbody tr th {\n",
       "        vertical-align: top;\n",
       "    }\n",
       "\n",
       "    .dataframe thead th {\n",
       "        text-align: right;\n",
       "    }\n",
       "</style>\n",
       "<table border=\"1\" class=\"dataframe\">\n",
       "  <thead>\n",
       "    <tr style=\"text-align: right;\">\n",
       "      <th></th>\n",
       "      <th>remove_http</th>\n",
       "      <th>Label;</th>\n",
       "    </tr>\n",
       "  </thead>\n",
       "  <tbody>\n",
       "    <tr>\n",
       "      <th>0</th>\n",
       "      <td>adek gue positif covid-. gejalanya pilek  batu...</td>\n",
       "      <td>Netral;</td>\n",
       "    </tr>\n",
       "    <tr>\n",
       "      <th>1</th>\n",
       "      <td>Adi menambahkan  selain RS Rujukan Covid- dan ...</td>\n",
       "      <td>Netral;</td>\n",
       "    </tr>\n",
       "    <tr>\n",
       "      <th>2</th>\n",
       "      <td>Afrika Selatan telah menyetujui vaksin sinovac...</td>\n",
       "      <td>Netral;</td>\n",
       "    </tr>\n",
       "    <tr>\n",
       "      <th>3</th>\n",
       "      <td>Akibat paranoid: Ada yg bilang minum  kaleng s...</td>\n",
       "      <td>Netral;</td>\n",
       "    </tr>\n",
       "    <tr>\n",
       "      <th>4</th>\n",
       "      <td>Alhamdulilah  orang di Jalan Pt Ibrahim telah ...</td>\n",
       "      <td>Positif;</td>\n",
       "    </tr>\n",
       "    <tr>\n",
       "      <th>...</th>\n",
       "      <td>...</td>\n",
       "      <td>...</td>\n",
       "    </tr>\n",
       "    <tr>\n",
       "      <th>371</th>\n",
       "      <td>Yg cuma bs goreng isiu    Ngamuk karna Pemberl...</td>\n",
       "      <td>Negatif;</td>\n",
       "    </tr>\n",
       "    <tr>\n",
       "      <th>372</th>\n",
       "      <td>Sedangkan yg ini👇 habib mustofa al haddar kali...</td>\n",
       "      <td>Negatif;</td>\n",
       "    </tr>\n",
       "    <tr>\n",
       "      <th>373</th>\n",
       "      <td>Yg mau razia siapa? Yaqut itu org NU yg ter...</td>\n",
       "      <td>Negatif;</td>\n",
       "    </tr>\n",
       "    <tr>\n",
       "      <th>374</th>\n",
       "      <td>Apa yg terjadi saat ini  adalah wujud kegagala...</td>\n",
       "      <td>Negatif;</td>\n",
       "    </tr>\n",
       "    <tr>\n",
       "      <th>375</th>\n",
       "      <td>Kepada yth Presiden RI . Tolong stop penerbang...</td>\n",
       "      <td>Negatif;</td>\n",
       "    </tr>\n",
       "  </tbody>\n",
       "</table>\n",
       "<p>376 rows × 2 columns</p>\n",
       "</div>"
      ],
      "text/plain": [
       "                                           remove_http    Label;\n",
       "0    adek gue positif covid-. gejalanya pilek  batu...   Netral;\n",
       "1    Adi menambahkan  selain RS Rujukan Covid- dan ...   Netral;\n",
       "2    Afrika Selatan telah menyetujui vaksin sinovac...   Netral;\n",
       "3    Akibat paranoid: Ada yg bilang minum  kaleng s...   Netral;\n",
       "4    Alhamdulilah  orang di Jalan Pt Ibrahim telah ...  Positif;\n",
       "..                                                 ...       ...\n",
       "371  Yg cuma bs goreng isiu    Ngamuk karna Pemberl...  Negatif;\n",
       "372  Sedangkan yg ini👇 habib mustofa al haddar kali...  Negatif;\n",
       "373     Yg mau razia siapa? Yaqut itu org NU yg ter...  Negatif;\n",
       "374  Apa yg terjadi saat ini  adalah wujud kegagala...  Negatif;\n",
       "375  Kepada yth Presiden RI . Tolong stop penerbang...  Negatif;\n",
       "\n",
       "[376 rows x 2 columns]"
      ]
     },
     "execution_count": 275,
     "metadata": {},
     "output_type": "execute_result"
    }
   ],
   "source": [
    "tweet_df"
   ]
  },
  {
   "cell_type": "code",
   "execution_count": 276,
   "metadata": {},
   "outputs": [],
   "source": [
    "df = pd.DataFrame(tweet_df[['Label;', 'remove_http']])"
   ]
  },
  {
   "cell_type": "code",
   "execution_count": 277,
   "metadata": {},
   "outputs": [
    {
     "data": {
      "text/html": [
       "<div>\n",
       "<style scoped>\n",
       "    .dataframe tbody tr th:only-of-type {\n",
       "        vertical-align: middle;\n",
       "    }\n",
       "\n",
       "    .dataframe tbody tr th {\n",
       "        vertical-align: top;\n",
       "    }\n",
       "\n",
       "    .dataframe thead th {\n",
       "        text-align: right;\n",
       "    }\n",
       "</style>\n",
       "<table border=\"1\" class=\"dataframe\">\n",
       "  <thead>\n",
       "    <tr style=\"text-align: right;\">\n",
       "      <th></th>\n",
       "      <th>Label;</th>\n",
       "      <th>remove_http</th>\n",
       "    </tr>\n",
       "  </thead>\n",
       "  <tbody>\n",
       "    <tr>\n",
       "      <th>0</th>\n",
       "      <td>Netral;</td>\n",
       "      <td>adek gue positif covid-. gejalanya pilek  batu...</td>\n",
       "    </tr>\n",
       "    <tr>\n",
       "      <th>1</th>\n",
       "      <td>Netral;</td>\n",
       "      <td>Adi menambahkan  selain RS Rujukan Covid- dan ...</td>\n",
       "    </tr>\n",
       "    <tr>\n",
       "      <th>2</th>\n",
       "      <td>Netral;</td>\n",
       "      <td>Afrika Selatan telah menyetujui vaksin sinovac...</td>\n",
       "    </tr>\n",
       "    <tr>\n",
       "      <th>3</th>\n",
       "      <td>Netral;</td>\n",
       "      <td>Akibat paranoid: Ada yg bilang minum  kaleng s...</td>\n",
       "    </tr>\n",
       "    <tr>\n",
       "      <th>4</th>\n",
       "      <td>Positif;</td>\n",
       "      <td>Alhamdulilah  orang di Jalan Pt Ibrahim telah ...</td>\n",
       "    </tr>\n",
       "    <tr>\n",
       "      <th>...</th>\n",
       "      <td>...</td>\n",
       "      <td>...</td>\n",
       "    </tr>\n",
       "    <tr>\n",
       "      <th>371</th>\n",
       "      <td>Negatif;</td>\n",
       "      <td>Yg cuma bs goreng isiu    Ngamuk karna Pemberl...</td>\n",
       "    </tr>\n",
       "    <tr>\n",
       "      <th>372</th>\n",
       "      <td>Negatif;</td>\n",
       "      <td>Sedangkan yg ini👇 habib mustofa al haddar kali...</td>\n",
       "    </tr>\n",
       "    <tr>\n",
       "      <th>373</th>\n",
       "      <td>Negatif;</td>\n",
       "      <td>Yg mau razia siapa? Yaqut itu org NU yg ter...</td>\n",
       "    </tr>\n",
       "    <tr>\n",
       "      <th>374</th>\n",
       "      <td>Negatif;</td>\n",
       "      <td>Apa yg terjadi saat ini  adalah wujud kegagala...</td>\n",
       "    </tr>\n",
       "    <tr>\n",
       "      <th>375</th>\n",
       "      <td>Negatif;</td>\n",
       "      <td>Kepada yth Presiden RI . Tolong stop penerbang...</td>\n",
       "    </tr>\n",
       "  </tbody>\n",
       "</table>\n",
       "<p>376 rows × 2 columns</p>\n",
       "</div>"
      ],
      "text/plain": [
       "       Label;                                        remove_http\n",
       "0     Netral;  adek gue positif covid-. gejalanya pilek  batu...\n",
       "1     Netral;  Adi menambahkan  selain RS Rujukan Covid- dan ...\n",
       "2     Netral;  Afrika Selatan telah menyetujui vaksin sinovac...\n",
       "3     Netral;  Akibat paranoid: Ada yg bilang minum  kaleng s...\n",
       "4    Positif;  Alhamdulilah  orang di Jalan Pt Ibrahim telah ...\n",
       "..        ...                                                ...\n",
       "371  Negatif;  Yg cuma bs goreng isiu    Ngamuk karna Pemberl...\n",
       "372  Negatif;  Sedangkan yg ini👇 habib mustofa al haddar kali...\n",
       "373  Negatif;     Yg mau razia siapa? Yaqut itu org NU yg ter...\n",
       "374  Negatif;  Apa yg terjadi saat ini  adalah wujud kegagala...\n",
       "375  Negatif;  Kepada yth Presiden RI . Tolong stop penerbang...\n",
       "\n",
       "[376 rows x 2 columns]"
      ]
     },
     "execution_count": 277,
     "metadata": {},
     "output_type": "execute_result"
    }
   ],
   "source": [
    "df"
   ]
  },
  {
   "cell_type": "code",
   "execution_count": 278,
   "metadata": {},
   "outputs": [],
   "source": [
    "df.to_csv('Test_Label.csv',encoding='utf8', index=False)"
   ]
  },
  {
   "cell_type": "code",
   "execution_count": null,
   "metadata": {},
   "outputs": [],
   "source": []
  }
 ],
 "metadata": {
  "kernelspec": {
   "display_name": "Python 3",
   "language": "python",
   "name": "python3"
  },
  "language_info": {
   "codemirror_mode": {
    "name": "ipython",
    "version": 3
   },
   "file_extension": ".py",
   "mimetype": "text/x-python",
   "name": "python",
   "nbconvert_exporter": "python",
   "pygments_lexer": "ipython3",
   "version": "3.8.3"
  }
 },
 "nbformat": 4,
 "nbformat_minor": 4
}
